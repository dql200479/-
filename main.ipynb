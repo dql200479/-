{
 "cells": [
  {
   "cell_type": "code",
   "execution_count": null,
   "id": "initial_id",
   "metadata": {
    "collapsed": true
   },
   "outputs": [],
   "source": [
    ""
   ]
  },
  {
   "metadata": {
    "ExecuteTime": {
     "end_time": "2025-05-21T05:36:31.165493Z",
     "start_time": "2025-05-21T05:36:31.147493Z"
    }
   },
   "cell_type": "code",
   "source": [
    "# 导入所需的库\n",
    "import torch\n",
    "from torch.utils.data import DataLoader\n",
    "from torchvision import datasets, transforms\n",
    "import torch.nn as nn\n",
    "import torch.optim as optim\n",
    "import matplotlib.pyplot as plt\n",
    "import random\n",
    "import matplotlib.pyplot as plt\n",
    "import matplotlib.font_manager as fm\n",
    "\n",
    "# ------------------- 添加中文字体配置 ------------------- #\n",
    "# 解决中文显示问题\n",
    "plt.rcParams['font.sans-serif'] = ['SimHei']  # 指定默认字体为黑体\n",
    "plt.rcParams['axes.unicode_minus'] = False     # 解决负号显示异常\n",
    "# ------------------------------------------------------ #\n"
   ],
   "id": "5161f8ce3abb4afa",
   "outputs": [],
   "execution_count": 14
  },
  {
   "metadata": {},
   "cell_type": "code",
   "outputs": [
    {
     "name": "stdout",
     "output_type": "stream",
     "text": [
      "训练 Epoch: 1 [0/60000 (0%)]\t损失: 2.320024\n",
      "训练 Epoch: 1 [6400/60000 (11%)]\t损失: 0.577872\n",
      "训练 Epoch: 1 [12800/60000 (21%)]\t损失: 0.454696\n",
      "训练 Epoch: 1 [19200/60000 (32%)]\t损失: 0.279256\n",
      "训练 Epoch: 1 [25600/60000 (43%)]\t损失: 0.275145\n",
      "训练 Epoch: 1 [32000/60000 (53%)]\t损失: 0.114979\n",
      "训练 Epoch: 1 [38400/60000 (64%)]\t损失: 0.148121\n",
      "训练 Epoch: 1 [44800/60000 (75%)]\t损失: 0.089719\n",
      "训练 Epoch: 1 [51200/60000 (85%)]\t损失: 0.125886\n",
      "训练 Epoch: 1 [57600/60000 (96%)]\t损失: 0.062619\n",
      "\n",
      "测试集: 平均损失: 0.0014, 准确率: 9729/10000 (97%)\n",
      "\n",
      "训练 Epoch: 2 [0/60000 (0%)]\t损失: 0.077855\n",
      "训练 Epoch: 2 [6400/60000 (11%)]\t损失: 0.175302\n",
      "训练 Epoch: 2 [12800/60000 (21%)]\t损失: 0.120275\n",
      "训练 Epoch: 2 [19200/60000 (32%)]\t损失: 0.038788\n",
      "训练 Epoch: 2 [25600/60000 (43%)]\t损失: 0.294706\n",
      "训练 Epoch: 2 [32000/60000 (53%)]\t损失: 0.023332\n",
      "训练 Epoch: 2 [38400/60000 (64%)]\t损失: 0.027906\n",
      "训练 Epoch: 2 [44800/60000 (75%)]\t损失: 0.081031\n",
      "训练 Epoch: 2 [51200/60000 (85%)]\t损失: 0.031003\n",
      "训练 Epoch: 2 [57600/60000 (96%)]\t损失: 0.082196\n",
      "\n",
      "测试集: 平均损失: 0.0011, 准确率: 9774/10000 (98%)\n",
      "\n",
      "训练 Epoch: 3 [0/60000 (0%)]\t损失: 0.063314\n",
      "训练 Epoch: 3 [6400/60000 (11%)]\t损失: 0.017813\n",
      "训练 Epoch: 3 [12800/60000 (21%)]\t损失: 0.009345\n",
      "训练 Epoch: 3 [19200/60000 (32%)]\t损失: 0.021528\n",
      "训练 Epoch: 3 [25600/60000 (43%)]\t损失: 0.109091\n",
      "训练 Epoch: 3 [32000/60000 (53%)]\t损失: 0.109629\n",
      "训练 Epoch: 3 [38400/60000 (64%)]\t损失: 0.050951\n",
      "训练 Epoch: 3 [44800/60000 (75%)]\t损失: 0.058939\n",
      "训练 Epoch: 3 [51200/60000 (85%)]\t损失: 0.090375\n",
      "训练 Epoch: 3 [57600/60000 (96%)]\t损失: 0.038975\n",
      "\n",
      "测试集: 平均损失: 0.0007, 准确率: 9850/10000 (98%)\n",
      "\n",
      "训练 Epoch: 4 [0/60000 (0%)]\t损失: 0.024594\n",
      "训练 Epoch: 4 [6400/60000 (11%)]\t损失: 0.041531\n",
      "训练 Epoch: 4 [12800/60000 (21%)]\t损失: 0.020776\n",
      "训练 Epoch: 4 [19200/60000 (32%)]\t损失: 0.109655\n",
      "训练 Epoch: 4 [25600/60000 (43%)]\t损失: 0.093899\n",
      "训练 Epoch: 4 [32000/60000 (53%)]\t损失: 0.010290\n",
      "训练 Epoch: 4 [38400/60000 (64%)]\t损失: 0.073044\n",
      "训练 Epoch: 4 [44800/60000 (75%)]\t损失: 0.033853\n",
      "训练 Epoch: 4 [51200/60000 (85%)]\t损失: 0.025628\n",
      "训练 Epoch: 4 [57600/60000 (96%)]\t损失: 0.021424\n",
      "\n",
      "测试集: 平均损失: 0.0007, 准确率: 9843/10000 (98%)\n",
      "\n",
      "训练 Epoch: 5 [0/60000 (0%)]\t损失: 0.023142\n",
      "训练 Epoch: 5 [6400/60000 (11%)]\t损失: 0.092904\n",
      "训练 Epoch: 5 [12800/60000 (21%)]\t损失: 0.072176\n",
      "训练 Epoch: 5 [19200/60000 (32%)]\t损失: 0.188142\n",
      "训练 Epoch: 5 [25600/60000 (43%)]\t损失: 0.008127\n",
      "训练 Epoch: 5 [32000/60000 (53%)]\t损失: 0.013411\n",
      "训练 Epoch: 5 [38400/60000 (64%)]\t损失: 0.059618\n",
      "训练 Epoch: 5 [44800/60000 (75%)]\t损失: 0.151606\n",
      "训练 Epoch: 5 [51200/60000 (85%)]\t损失: 0.079352\n",
      "训练 Epoch: 5 [57600/60000 (96%)]\t损失: 0.040252\n",
      "\n",
      "测试集: 平均损失: 0.0006, 准确率: 9865/10000 (99%)\n",
      "\n",
      "训练 Epoch: 6 [0/60000 (0%)]\t损失: 0.024627\n",
      "训练 Epoch: 6 [6400/60000 (11%)]\t损失: 0.027217\n",
      "训练 Epoch: 6 [12800/60000 (21%)]\t损失: 0.009865\n",
      "训练 Epoch: 6 [19200/60000 (32%)]\t损失: 0.050924\n",
      "训练 Epoch: 6 [25600/60000 (43%)]\t损失: 0.050066\n",
      "训练 Epoch: 6 [32000/60000 (53%)]\t损失: 0.032865\n",
      "训练 Epoch: 6 [38400/60000 (64%)]\t损失: 0.012307\n",
      "训练 Epoch: 6 [44800/60000 (75%)]\t损失: 0.020502\n",
      "训练 Epoch: 6 [51200/60000 (85%)]\t损失: 0.022180\n",
      "训练 Epoch: 6 [57600/60000 (96%)]\t损失: 0.031474\n",
      "\n",
      "测试集: 平均损失: 0.0006, 准确率: 9879/10000 (99%)\n",
      "\n",
      "训练 Epoch: 7 [0/60000 (0%)]\t损失: 0.010470\n",
      "训练 Epoch: 7 [6400/60000 (11%)]\t损失: 0.041258\n",
      "训练 Epoch: 7 [12800/60000 (21%)]\t损失: 0.019960\n",
      "训练 Epoch: 7 [19200/60000 (32%)]\t损失: 0.017981\n",
      "训练 Epoch: 7 [25600/60000 (43%)]\t损失: 0.005603\n",
      "训练 Epoch: 7 [32000/60000 (53%)]\t损失: 0.010830\n",
      "训练 Epoch: 7 [38400/60000 (64%)]\t损失: 0.011809\n",
      "训练 Epoch: 7 [44800/60000 (75%)]\t损失: 0.039373\n",
      "训练 Epoch: 7 [51200/60000 (85%)]\t损失: 0.121301\n",
      "训练 Epoch: 7 [57600/60000 (96%)]\t损失: 0.016223\n",
      "\n",
      "测试集: 平均损失: 0.0005, 准确率: 9881/10000 (99%)\n",
      "\n",
      "训练 Epoch: 8 [0/60000 (0%)]\t损失: 0.005740\n",
      "训练 Epoch: 8 [6400/60000 (11%)]\t损失: 0.007695\n",
      "训练 Epoch: 8 [12800/60000 (21%)]\t损失: 0.033210\n",
      "训练 Epoch: 8 [19200/60000 (32%)]\t损失: 0.018090\n",
      "训练 Epoch: 8 [25600/60000 (43%)]\t损失: 0.004939\n",
      "训练 Epoch: 8 [32000/60000 (53%)]\t损失: 0.088803\n",
      "训练 Epoch: 8 [38400/60000 (64%)]\t损失: 0.039111\n",
      "训练 Epoch: 8 [44800/60000 (75%)]\t损失: 0.005502\n",
      "训练 Epoch: 8 [51200/60000 (85%)]\t损失: 0.053453\n",
      "训练 Epoch: 8 [57600/60000 (96%)]\t损失: 0.017336\n",
      "\n",
      "测试集: 平均损失: 0.0005, 准确率: 9895/10000 (99%)\n",
      "\n",
      "训练 Epoch: 9 [0/60000 (0%)]\t损失: 0.038169\n",
      "训练 Epoch: 9 [6400/60000 (11%)]\t损失: 0.025053\n",
      "训练 Epoch: 9 [12800/60000 (21%)]\t损失: 0.006526\n",
      "训练 Epoch: 9 [19200/60000 (32%)]\t损失: 0.025773\n",
      "训练 Epoch: 9 [25600/60000 (43%)]\t损失: 0.019776\n",
      "训练 Epoch: 9 [32000/60000 (53%)]\t损失: 0.030505\n",
      "训练 Epoch: 9 [38400/60000 (64%)]\t损失: 0.007833\n",
      "训练 Epoch: 9 [44800/60000 (75%)]\t损失: 0.033251\n",
      "训练 Epoch: 9 [51200/60000 (85%)]\t损失: 0.003095\n",
      "训练 Epoch: 9 [57600/60000 (96%)]\t损失: 0.060091\n",
      "\n",
      "测试集: 平均损失: 0.0006, 准确率: 9871/10000 (99%)\n",
      "\n",
      "训练 Epoch: 10 [0/60000 (0%)]\t损失: 0.007866\n",
      "训练 Epoch: 10 [6400/60000 (11%)]\t损失: 0.012164\n",
      "训练 Epoch: 10 [12800/60000 (21%)]\t损失: 0.013769\n",
      "训练 Epoch: 10 [19200/60000 (32%)]\t损失: 0.001517\n",
      "训练 Epoch: 10 [25600/60000 (43%)]\t损失: 0.031442\n",
      "训练 Epoch: 10 [32000/60000 (53%)]\t损失: 0.021200\n",
      "训练 Epoch: 10 [38400/60000 (64%)]\t损失: 0.001981\n",
      "训练 Epoch: 10 [44800/60000 (75%)]\t损失: 0.061388\n",
      "训练 Epoch: 10 [51200/60000 (85%)]\t损失: 0.004180\n",
      "训练 Epoch: 10 [57600/60000 (96%)]\t损失: 0.021161\n",
      "\n",
      "测试集: 平均损失: 0.0006, 准确率: 9878/10000 (99%)\n",
      "\n"
     ]
    }
   ],
   "execution_count": 9,
   "source": [
    "\n",
    "\n",
    "# 设置随机种子，以确保结果的可重复性\n",
    "torch.manual_seed(0)\n",
    "\n",
    "# 定义数据预处理\n",
    "transform = transforms.Compose([\n",
    "    transforms.ToTensor(),  # 将图像转换为张量\n",
    "    transforms.Normalize((0.1307,), (0.3081,))  # 标准化图像\n",
    "])\n",
    "\n",
    "# 加载MNIST数据集\n",
    "train_dataset = datasets.MNIST('data', train=True, download=True, transform=transform)  # 训练数据集\n",
    "test_dataset = datasets.MNIST('data', train=False, download=True, transform=transform)  # 测试数据集\n",
    "\n",
    "# 创建数据加载器\n",
    "train_loader = DataLoader(train_dataset, batch_size=64, shuffle=True)  # 训练数据加载器\n",
    "test_loader = DataLoader(test_dataset, batch_size=64, shuffle=False)  # 测试数据加载器\n",
    "\n",
    "# 定义神经网络模型（LeNet）\n",
    "class Net(nn.Module):\n",
    "    def __init__(self):\n",
    "        super(Net, self).__init__()\n",
    "        self.conv1 = nn.Conv2d(1, 20, 5, 1)\n",
    "        self.conv2 = nn.Conv2d(20, 50, 5, 1)\n",
    "        self.fc1 = nn.Linear(4*4*50, 500)\n",
    "        self.fc2 = nn.Linear(500, 10)\n",
    "\n",
    "    def forward(self, x):\n",
    "        x = nn.functional.relu(self.conv1(x))\n",
    "        x = nn.functional.max_pool2d(x, 2, 2)\n",
    "        x = nn.functional.relu(self.conv2(x))\n",
    "        x = nn.functional.max_pool2d(x, 2, 2)\n",
    "        x = x.view(-1, 4*4*50)\n",
    "        x = nn.functional.relu(self.fc1(x))\n",
    "        x = self.fc2(x)\n",
    "        return nn.functional.log_softmax(x, dim=1)\n",
    "\n",
    "# 创建神经网络模型实例\n",
    "model = Net()\n",
    "\n",
    "# 定义优化器和损失函数\n",
    "optimizer = optim.SGD(model.parameters(), lr=0.01, momentum=0.5)\n",
    "criterion = nn.CrossEntropyLoss()\n",
    "\n",
    "# 训练模型\n",
    "def train(epoch):\n",
    "    model.train()\n",
    "    for batch_idx, (data, target) in enumerate(train_loader):\n",
    "        optimizer.zero_grad()\n",
    "        output = model(data)\n",
    "        loss = criterion(output, target)\n",
    "        loss.backward()\n",
    "        optimizer.step()\n",
    "        if batch_idx % 100 == 0:\n",
    "            print('训练 Epoch: {} [{}/{} ({:.0f}%)]\\t损失: {:.6f}'.format(\n",
    "                epoch, batch_idx * len(data), len(train_loader.dataset),\n",
    "                100. * batch_idx / len(train_loader), loss.item()))\n",
    "\n",
    "# 测试模型\n",
    "def mytest():\n",
    "    model.eval()\n",
    "    test_loss = 0\n",
    "    correct = 0\n",
    "    with torch.no_grad():\n",
    "        for data, target in test_loader:\n",
    "            output = model(data)\n",
    "            test_loss += criterion(output, target).item()\n",
    "            pred = output.argmax(dim=1, keepdim=True)\n",
    "            correct += pred.eq(target.view_as(pred)).sum().item()\n",
    "\n",
    "    test_loss /= len(test_loader.dataset)\n",
    "    print('\\n测试集: 平均损失: {:.4f}, 准确率: {}/{} ({:.0f}%)\\n'.format(\n",
    "        test_loss, correct, len(test_loader.dataset),\n",
    "        100. * correct / len(test_loader.dataset)))\n",
    "\n",
    "# 进行模型训练和测试\n",
    "for epoch in range(1, 11):\n",
    "    train(epoch)\n",
    "    mytest()"
   ],
   "id": "14dfa2cd500db972"
  },
  {
   "metadata": {},
   "cell_type": "markdown",
   "source": [
    "保存权重\n",
    "\n",
    "将训练得到的权重保存在model.pth文件夹中"
   ],
   "id": "9ff2f911c478f106"
  },
  {
   "metadata": {
    "ExecuteTime": {
     "end_time": "2025-05-21T05:35:16.027886Z",
     "start_time": "2025-05-21T05:35:16.015804Z"
    }
   },
   "cell_type": "code",
   "source": [
    "from torch.serialization import load\n",
    "from torch.serialization import save  # 或直接使用 torch.save\n",
    "\n",
    "# 假设 model 是已经训练好的模型\n",
    "state_dict = model.state_dict()  # 获取模型权重（参数）\n",
    "save(state_dict, \"model.pth\")     # 保存权重到文件"
   ],
   "id": "f58ee4ea46f933a7",
   "outputs": [],
   "execution_count": 10
  },
  {
   "metadata": {},
   "cell_type": "markdown",
   "source": "导出为ONNX格式",
   "id": "5e110f352079179d"
  },
  {
   "metadata": {
    "ExecuteTime": {
     "end_time": "2025-05-21T05:35:17.986380Z",
     "start_time": "2025-05-21T05:35:17.891951Z"
    }
   },
   "cell_type": "code",
   "source": [
    "# 确保模型处于评估模式\n",
    "model.eval()\n",
    "\n",
    "# 创建虚拟输入\n",
    "dummy_input = torch.randn(1, 1, 28, 28)\n",
    "\n",
    "# 导出为ONNX\n",
    "torch.onnx.export(\n",
    "    model, dummy_input, \"mnist_model.onnx\",\n",
    "    export_params=True,\n",
    "    opset_version=11,\n",
    "    input_names=['input'],\n",
    "    output_names=['output'],\n",
    "    dynamic_axes={'input': {0: 'batch_size'}, 'output': {0: 'batch_size'}}\n",
    ")\n",
    "print(\"模型已导出为ONNX格式: mnist_model.onnx\")\n",
    "\n",
    "# 导出为TorchScript (两种方法)\n",
    "try:\n",
    "    # 方法1: 跟踪\n",
    "    traced_model = torch.jit.trace(model, dummy_input)\n",
    "    traced_model.save(\"mnist_model_traced.pt\")\n",
    "    print(\"模型已导出为TorchScript (跟踪) 格式: mnist_model_traced.pt\")\n",
    "except Exception as e:\n",
    "    print(f\"跟踪导出失败: {e}\")\n",
    "\n",
    "try:\n",
    "    # 方法2: 脚本化\n",
    "    scripted_model = torch.jit.script(model)\n",
    "    scripted_model.save(\"mnist_model_scripted.pt\")\n",
    "    print(\"模型已导出为TorchScript (脚本化) 格式: mnist_model_scripted.pt\")\n",
    "except Exception as e:\n",
    "    print(f\"脚本化导出失败: {e}\")"
   ],
   "id": "9c2653bb86d7cec6",
   "outputs": [
    {
     "name": "stdout",
     "output_type": "stream",
     "text": [
      "模型已导出为ONNX格式: mnist_model.onnx\n",
      "模型已导出为TorchScript (跟踪) 格式: mnist_model_traced.pt\n",
      "模型已导出为TorchScript (脚本化) 格式: mnist_model_scripted.pt\n"
     ]
    }
   ],
   "execution_count": 11
  },
  {
   "metadata": {},
   "cell_type": "markdown",
   "source": "",
   "id": "dece2365797cb59c"
  },
  {
   "metadata": {},
   "cell_type": "markdown",
   "source": "测试",
   "id": "b464b535a22f3a4e"
  },
  {
   "metadata": {
    "ExecuteTime": {
     "end_time": "2025-05-21T05:35:23.968380Z",
     "start_time": "2025-05-21T05:35:23.945268Z"
    }
   },
   "cell_type": "code",
   "source": [
    "def predict_random_sample(model, dataset):\n",
    "    \"\"\"从数据集中随机选取一个样本，显示图片并输出预测结果\"\"\"\n",
    "    model.eval()  # 确保模型处于评估模式\n",
    "    index = random.randint(0, len(dataset) - 1)  # 随机生成索引\n",
    "    data, target = dataset[index]  # 获取数据和真实标签\n",
    "    \n",
    "    # 预处理数据（添加批次维度）\n",
    "    data = data.unsqueeze(0)  # 形状从 (1,28,28) 变为 (1,1,28,28)\n",
    "    \n",
    "    with torch.no_grad():\n",
    "        output = model(data)\n",
    "        pred = output.argmax(dim=1).item()  # 预测结果\n",
    "        confidence = torch.exp(output)[0][pred].item() * 100  # 置信度（概率）\n",
    "    \n",
    "    # 显示原始图片\n",
    "    plt.figure(figsize=(2, 2))\n",
    "    plt.imshow(data.squeeze().numpy(), cmap='gray')  # 移除批次和通道维度\n",
    "    plt.title(f\"真实标签: {target}\\n预测结果: {pred}\\n置信度: {confidence:.1f}%\")\n",
    "    plt.axis('off')\n",
    "    plt.show()\n",
    "    \n",
    "    return pred, target, confidence"
   ],
   "id": "473487f67f2f393a",
   "outputs": [],
   "execution_count": 12
  },
  {
   "metadata": {
    "ExecuteTime": {
     "end_time": "2025-05-21T05:37:32.292632Z",
     "start_time": "2025-05-21T05:37:32.249924Z"
    }
   },
   "cell_type": "code",
   "source": [
    "print(\"---------------------- 随机样本预测 ----------------------\")\n",
    "pred, target, confidence = predict_random_sample(model, test_dataset)\n",
    "print(f\"预测结果: {pred} | 真实标签: {target} | 置信度: {confidence:.1f}%\")"
   ],
   "id": "762c080b5df3dc15",
   "outputs": [
    {
     "name": "stdout",
     "output_type": "stream",
     "text": [
      "---------------------- 随机样本预测 ----------------------\n"
     ]
    },
    {
     "data": {
      "text/plain": [
       "<Figure size 200x200 with 1 Axes>"
      ],
      "image/png": "[encoded data removed]"
     },
     "metadata": {},
     "output_type": "display_data"
    },
    {
     "name": "stdout",
     "output_type": "stream",
     "text": [
      "预测结果: 4 | 真实标签: 4 | 置信度: 99.6%\n"
     ]
    }
   ],
   "execution_count": 25
  }
 ],
 "metadata": {
  "kernelspec": {
   "display_name": "Python 3",
   "language": "python",
   "name": "python3"
  },
  "language_info": {
   "codemirror_mode": {
    "name": "ipython",
    "version": 2
   },
   "file_extension": ".py",
   "mimetype": "text/x-python",
   "name": "python",
   "nbconvert_exporter": "python",
   "pygments_lexer": "ipython2",
   "version": "2.7.6"
  }
 },
 "nbformat": 4,
 "nbformat_minor": 5
}
